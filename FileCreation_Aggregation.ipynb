{
 "cells": [
  {
   "cell_type": "code",
   "execution_count": 3,
   "metadata": {
    "collapsed": true
   },
   "outputs": [],
   "source": [
    "import pandas as pd"
   ]
  },
  {
   "cell_type": "code",
   "execution_count": 4,
   "metadata": {},
   "outputs": [],
   "source": [
    "df = pd.read_csv(\"2016_USAir.csv\")"
   ]
  },
  {
   "cell_type": "code",
   "execution_count": 5,
   "metadata": {},
   "outputs": [
    {
     "name": "stdout",
     "output_type": "stream",
     "text": [
      "   ORIGIN_AIRPORT_ID  DEST_AIRPORT_ID ORIGIN DEST  TOTAL_PASSENGER\n",
      "0              10005            11630    05A  FAI              122\n",
      "1              10006            10170    06A  ADQ                8\n",
      "2              10011            10011    1G4  1G4             9999\n",
      "3              10011            10661    1G4  BLD            24757\n",
      "4              10011            11399    1G4  DQS                4\n",
      "5              10011            11869    1G4  GCN               45\n",
      "6              10011            12745    1G4  KNB                0\n",
      "7              10011            14081    1G4  PGA                0\n",
      "8              10015            10170    A02  ADQ               18\n",
      "9              10016            12184    A03  HOM                7\n"
     ]
    }
   ],
   "source": [
    "#labels=['ORIGIN_AIRPORT_ID','DEST_AIRPORT_ID','ORIGIN','DEST','TOTAL_PASSENGER']\n",
    "data = df.groupby(['ORIGIN_AIRPORT_ID','DEST_AIRPORT_ID','ORIGIN','DEST'])['PASSENGERS'].sum().reset_index(name ='TOTAL_PASSENGER')\n",
    "print(data.head(10))\n",
    "data.to_csv(\"2016_aggregated.csv\")"
   ]
  },
  {
   "cell_type": "code",
   "execution_count": null,
   "metadata": {
    "collapsed": true
   },
   "outputs": [],
   "source": []
  },
  {
   "cell_type": "code",
   "execution_count": null,
   "metadata": {
    "collapsed": true
   },
   "outputs": [],
   "source": []
  }
 ],
 "metadata": {
  "kernelspec": {
   "display_name": "Python 3",
   "language": "python",
   "name": "python3"
  },
  "language_info": {
   "codemirror_mode": {
    "name": "ipython",
    "version": 3
   },
   "file_extension": ".py",
   "mimetype": "text/x-python",
   "name": "python",
   "nbconvert_exporter": "python",
   "pygments_lexer": "ipython3",
   "version": "3.6.1"
  }
 },
 "nbformat": 4,
 "nbformat_minor": 2
}
