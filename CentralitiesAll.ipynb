{
 "cells": [
  {
   "cell_type": "code",
   "execution_count": 1,
   "metadata": {
    "collapsed": true
   },
   "outputs": [],
   "source": [
    "import networkx as nx\n",
    "import scipy.stats as stats\n",
    "import numpy as np"
   ]
  },
  {
   "cell_type": "code",
   "execution_count": 2,
   "metadata": {},
   "outputs": [
    {
     "name": "stdout",
     "output_type": "stream",
     "text": [
      "DiGraph\n",
      "Graph\n"
     ]
    }
   ],
   "source": [
    "air_graph = nx.read_gml(\"2016_aggregated_air_network.gml\")\n",
    "print(type(air_graph).__name__)\n",
    "\n",
    "air_net = air_graph.to_undirected()\n",
    "print(type(air_net).__name__)"
   ]
  },
  {
   "cell_type": "markdown",
   "metadata": {},
   "source": [
    "# Degree Centrality"
   ]
  },
  {
   "cell_type": "code",
   "execution_count": 3,
   "metadata": {},
   "outputs": [
    {
     "name": "stdout",
     "output_type": "stream",
     "text": [
      "[('ORD', 0.19757085020242915), ('ANC', 0.19271255060728745), ('ATL', 0.19271255060728745), ('HPN', 0.18137651821862347), ('MIA', 0.1805668016194332), ('DEN', 0.17894736842105263), ('DFW', 0.1757085020242915), ('LAS', 0.17408906882591094), ('MSP', 0.17327935222672064), ('LAX', 0.1692307692307692)]\n"
     ]
    }
   ],
   "source": [
    "degree = nx.degree_centrality(air_net)\n",
    "degree_sorted = sorted(degree.items(), key = lambda t:t[1], reverse=True)\n",
    "print(degree_sorted[:10])"
   ]
  },
  {
   "cell_type": "markdown",
   "metadata": {},
   "source": [
    "# Betweenness Centrality"
   ]
  },
  {
   "cell_type": "code",
   "execution_count": 4,
   "metadata": {},
   "outputs": [
    {
     "name": "stdout",
     "output_type": "stream",
     "text": [
      "[('ANC', 0.2603099597746229), ('HPN', 0.08862616538501393), ('FAI', 0.08169141591683056), ('SEA', 0.05733880454035049), ('TEB', 0.04613618103059813)]\n"
     ]
    }
   ],
   "source": [
    "between = nx.betweenness_centrality(air_net)\n",
    "between_sorted = sorted(between.items(), key = lambda t:t[1], reverse=True)\n",
    "print(between_sorted[:5])"
   ]
  },
  {
   "cell_type": "markdown",
   "metadata": {},
   "source": [
    "# Closeness Centrality"
   ]
  },
  {
   "cell_type": "code",
   "execution_count": 5,
   "metadata": {},
   "outputs": [
    {
     "name": "stdout",
     "output_type": "stream",
     "text": [
      "[('ORD', 0.5000119173334304), ('ANC', 0.4967624491460483), ('ATL', 0.4947528923129332), ('MSP', 0.4941531918374023), ('LAS', 0.4892116599190283)]\n"
     ]
    }
   ],
   "source": [
    "closeness = nx.closeness_centrality(air_net)\n",
    "closeness_sorted = sorted(closeness.items(), key = lambda t:t[1], reverse=True)\n",
    "print(closeness_sorted[:5])"
   ]
  },
  {
   "cell_type": "markdown",
   "metadata": {},
   "source": [
    "# Eigenvector Centrality"
   ]
  },
  {
   "cell_type": "code",
   "execution_count": 6,
   "metadata": {},
   "outputs": [
    {
     "name": "stdout",
     "output_type": "stream",
     "text": [
      "[('ATL', 0.11904370738533981), ('ORD', 0.11488925688635475), ('IND', 0.11189244826375737), ('MSP', 0.11114673185504861), ('EWR', 0.1101476230603429)]\n"
     ]
    }
   ],
   "source": [
    "eigenvector = nx.eigenvector_centrality(air_net)\n",
    "eigenvector_sorted = sorted(eigenvector.items(), key = lambda t:t[1], reverse=True)\n",
    "print(eigenvector_sorted[:5])"
   ]
  },
  {
   "cell_type": "markdown",
   "metadata": {},
   "source": [
    "# Page Rank"
   ]
  },
  {
   "cell_type": "code",
   "execution_count": 7,
   "metadata": {},
   "outputs": [
    {
     "name": "stdout",
     "output_type": "stream",
     "text": [
      "[('ANC', 0.011281745627468092), ('HPN', 0.008797290552466305), ('WFB', 0.0071095429260080705), ('FAI', 0.006928399269281334), ('DEN', 0.006679836488755029)]\n"
     ]
    }
   ],
   "source": [
    "pr = nx.pagerank(air_graph)\n",
    "#print(pr)                   \n",
    "pr_sorted = sorted(pr.items(), key = lambda t: t[1], reverse= True)\n",
    "print(pr_sorted[:5])"
   ]
  },
  {
   "cell_type": "markdown",
   "metadata": {},
   "source": [
    "Top five airports based on the inportance of its in degree. The airports where most flights are directed to."
   ]
  },
  {
   "cell_type": "markdown",
   "metadata": {},
   "source": [
    "# Hits and Authorities"
   ]
  },
  {
   "cell_type": "code",
   "execution_count": 12,
   "metadata": {},
   "outputs": [
    {
     "name": "stdout",
     "output_type": "stream",
     "text": [
      "[('ATL', 0.008642240674808177), ('ORD', 0.008359616140638917), ('LAS', 0.008007489183664878), ('MEM', 0.007967492799004071), ('DTW', 0.007960635126433989)]\n",
      "[('ATL', 0.00835446696316241), ('ORD', 0.007946443268661153), ('MEM', 0.007743421511996689), ('DEN', 0.0077200113431526605), ('IND', 0.007604757403258563)]\n"
     ]
    }
   ],
   "source": [
    "h,a = nx.hits(air_graph)\n",
    "#print(pr)                   \n",
    "h_sorted = sorted(h.items(), key = lambda t: t[1], reverse= True)\n",
    "print(h_sorted[:5])\n",
    "a_sorted = sorted(a.items(), key = lambda t: t[1], reverse= True)\n",
    "print(a_sorted[:5])"
   ]
  },
  {
   "cell_type": "markdown",
   "metadata": {},
   "source": [
    "The HITS algorithm computes two numbers for a node. Authorities estimates the node value based on the incoming links. Hubs estimates the node value based on outgoing links."
   ]
  },
  {
   "cell_type": "code",
   "execution_count": null,
   "metadata": {
    "collapsed": true
   },
   "outputs": [],
   "source": []
  }
 ],
 "metadata": {
  "kernelspec": {
   "display_name": "Python 3",
   "language": "python",
   "name": "python3"
  },
  "language_info": {
   "codemirror_mode": {
    "name": "ipython",
    "version": 3
   },
   "file_extension": ".py",
   "mimetype": "text/x-python",
   "name": "python",
   "nbconvert_exporter": "python",
   "pygments_lexer": "ipython3",
   "version": "3.6.1"
  }
 },
 "nbformat": 4,
 "nbformat_minor": 2
}
