{
 "cells": [
  {
   "cell_type": "code",
   "execution_count": 1,
   "metadata": {
    "collapsed": true
   },
   "outputs": [],
   "source": [
    "import networkx as nx\n",
    "import scipy.stats as stats"
   ]
  },
  {
   "cell_type": "code",
   "execution_count": 2,
   "metadata": {},
   "outputs": [
    {
     "name": "stdout",
     "output_type": "stream",
     "text": [
      "DiGraph\n"
     ]
    }
   ],
   "source": [
    "air_graph = nx.read_gml(\"2016_aggregated_air_network.gml\")\n",
    "print(type(air_graph).__name__)"
   ]
  },
  {
   "cell_type": "code",
   "execution_count": 3,
   "metadata": {},
   "outputs": [
    {
     "name": "stdout",
     "output_type": "stream",
     "text": [
      "Graph\n"
     ]
    }
   ],
   "source": [
    "air_net = air_graph.to_undirected()\n",
    "print(type(air_net).__name__)"
   ]
  },
  {
   "cell_type": "code",
   "execution_count": 4,
   "metadata": {},
   "outputs": [
    {
     "name": "stdout",
     "output_type": "stream",
     "text": [
      "The articulation points:\n",
      "{'TEB', 'LSV', 'JZT', 'HTO', 'SEA', 'MKE', 'TUL', 'ASE', 'OSC', 'GED', 'BVY', 'IAD', 'MDW', 'IAH', 'JQF', 'DLH', 'BIL', 'DEN', 'HPN', 'JNU', 'TOL', 'MDT', 'RME', 'GUP', 'LUK', 'CT6', 'TN8', 'LPR', 'RDV', 'BET', 'BOI', 'OAK', 'NPT', 'MCI', 'PGA', 'AUS', 'ANI', 'ORD', 'BWG', 'SLC', 'FAI', 'FOK', 'WFB', 'ONT', 'PPG', 'GRB', 'POB', 'PWK', 'CPR', 'ABQ', 'ATL', 'OME', 'HOM', 'BFI', 'BGR', 'AEX', 'DFW', 'TKJ', 'TTN', 'GKN', 'HVN', 'YIP', 'ANC', 'GTF', 'SJU', 'VCV', 'LZU', 'OXC', 'KTB', 'FRG', 'ACK', 'BUR', 'BED', 'SDF', 'SMF', 'LCK', 'NUL', 'ADQ', 'PDX', 'MTP', 'RSW', 'STP', 'LGB', 'CHA', 'TRI', 'HFD', 'PWM', 'DLG', 'EYW', 'HKS', 'ILI', 'ORL', 'ELP', 'BLD', 'DQL', 'MCG', 'KEH', 'NUQ', 'MQY', 'BNA', 'SCC', 'EEN', 'PHX', 'MIA', 'STL', 'CLD'}\n",
      "\n",
      "\n",
      "Total number of articulation points in the network: 106\n"
     ]
    }
   ],
   "source": [
    "# Calculating articulation points of the airport network\n",
    "\n",
    "ar_points = list(nx.articulation_points(air_net))\n",
    "#print(len(ar_points))\n",
    "print(\"The articulation points:\")\n",
    "print(set(ar_points)) # Getting the unique articulation points\n",
    "print(\"\\n\")\n",
    "print(\"Total number of articulation points in the network:\", len(set(ar_points)))"
   ]
  },
  {
   "cell_type": "code",
   "execution_count": 5,
   "metadata": {},
   "outputs": [
    {
     "name": "stdout",
     "output_type": "stream",
     "text": [
      "Number of connected components in the network: 4\n"
     ]
    }
   ],
   "source": [
    "# Getting the largest connected component from the network for furthur analysis\n",
    "\n",
    "print(\"Number of connected components in the network:\",nx.number_connected_components(air_net))\n",
    "#largest_component=max(nx.connected_component_subgraphs(air_net), key=len)\n",
    "#print(type(largest_component).__name__)"
   ]
  },
  {
   "cell_type": "code",
   "execution_count": 6,
   "metadata": {},
   "outputs": [
    {
     "name": "stdout",
     "output_type": "stream",
     "text": [
      "Articulation points and how they impact on number of nodes: \n",
      "[('HPN', 17), ('WFB', 14), ('FAI', 12), ('TEB', 9), ('JNU', 9), ('ADQ', 8), ('SMF', 6), ('TN8', 6), ('HOM', 5), ('OXC', 5), ('OAK', 5), ('ANC', 5), ('MCG', 4), ('MQY', 4), ('STL', 4), ('DQL', 4), ('BFI', 4), ('LSV', 3), ('LPR', 3), ('LUK', 3), ('NPT', 3), ('TOL', 3), ('YIP', 3), ('FOK', 3), ('PWM', 3), ('JQF', 3), ('MTP', 3), ('ONT', 3), ('MIA', 3), ('PPG', 3), ('DFW', 3), ('BNA', 3), ('DEN', 3), ('PGA', 3), ('SLC', 3), ('BUR', 3), ('GKN', 3), ('SEA', 3), ('OME', 3), ('NUL', 2), ('TKJ', 2), ('RDV', 2), ('EYW', 2), ('RME', 2), ('POB', 2), ('CLD', 2), ('KEH', 2), ('STP', 2), ('HKS', 2), ('PWK', 2), ('JZT', 2), ('HFD', 2), ('EEN', 2), ('GED', 2), ('TRI', 2), ('HVN', 2), ('TTN', 2), ('ORL', 2), ('VCV', 2), ('GTF', 2), ('TUL', 2), ('DLH', 2), ('LZU', 2), ('MCI', 2), ('MKE', 2), ('GRB', 2), ('MDT', 2), ('OSC', 2), ('RSW', 2), ('HTO', 2), ('SJU', 2), ('CHA', 2), ('CPR', 2), ('BVY', 2), ('BWG', 2), ('BGR', 2), ('BED', 2), ('ASE', 2), ('BIL', 2), ('PDX', 2), ('ELP', 2), ('NUQ', 2), ('LGB', 2), ('SDF', 2), ('LCK', 2), ('MDW', 2), ('IAD', 2), ('FRG', 2), ('CT6', 2), ('ACK', 2), ('AEX', 2), ('AUS', 2), ('GUP', 2), ('BOI', 2), ('BLD', 2), ('PHX', 2), ('KTB', 2), ('ATL', 2), ('ORD', 2), ('ABQ', 2), ('IAH', 2), ('ILI', 2), ('SCC', 2), ('BET', 2), ('ANI', 2), ('DLG', 2)]\n",
      "\n",
      "\n",
      "Articulation points and how they increase in number of components when they are removed from the network: \n",
      "[('HPN', 16), ('WFB', 14), ('FAI', 12), ('TEB', 9), ('ADQ', 8), ('JNU', 8), ('SMF', 6), ('TN8', 6), ('HOM', 5), ('OXC', 5), ('OAK', 5), ('ANC', 5), ('MCG', 4), ('MQY', 4), ('STL', 4), ('BFI', 4), ('LSV', 3), ('LPR', 3), ('LUK', 3), ('NPT', 3), ('TOL', 3), ('YIP', 3), ('FOK', 3), ('PWM', 3), ('JQF', 3), ('MTP', 3), ('MIA', 3), ('PPG', 3), ('DFW', 3), ('BNA', 3), ('PGA', 3), ('SLC', 3), ('BUR', 3), ('GKN', 3), ('SEA', 3), ('OME', 3), ('NUL', 2), ('TKJ', 2), ('RDV', 2), ('EYW', 2), ('RME', 2), ('POB', 2), ('CLD', 2), ('KEH', 2), ('STP', 2), ('HKS', 2), ('PWK', 2), ('JZT', 2), ('HFD', 2), ('EEN', 2), ('GED', 2), ('TRI', 2), ('HVN', 2), ('TTN', 2), ('ORL', 2), ('VCV', 2), ('GTF', 2), ('TUL', 2), ('DLH', 2), ('LZU', 2), ('MCI', 2), ('MKE', 2), ('GRB', 2), ('MDT', 2), ('OSC', 2), ('RSW', 2), ('HTO', 2), ('SJU', 2), ('CHA', 2), ('CPR', 2), ('BVY', 2), ('BWG', 2), ('BGR', 2), ('BED', 2), ('ASE', 2), ('BIL', 2), ('PDX', 2), ('ONT', 2), ('ELP', 2), ('NUQ', 2), ('LGB', 2), ('SDF', 2), ('LCK', 2), ('MDW', 2), ('IAD', 2), ('FRG', 2), ('CT6', 2), ('ACK', 2), ('AEX', 2), ('AUS', 2), ('GUP', 2), ('DEN', 2), ('BOI', 2), ('BLD', 2), ('PHX', 2), ('DQL', 2), ('KTB', 2), ('ATL', 2), ('ORD', 2), ('ABQ', 2), ('IAH', 2), ('ILI', 2), ('SCC', 2), ('BET', 2), ('ANI', 2), ('DLG', 2)]\n"
     ]
    }
   ],
   "source": [
    "# Code to compute change in number of nodes and number of connected components when an articulation point is removed from \n",
    "# the largest component of the network\n",
    "\n",
    "air_net = air_graph.to_undirected()\n",
    "largest_component=max(nx.connected_component_subgraphs(air_net), key=len)\n",
    "\n",
    "largest_component_backup = largest_component.copy()\n",
    "\n",
    "d = {} # Dictionary to store airports and corresponding change in number of nodes when that airport is removed\n",
    "component = {} # Dictionary to store airports and corresponding change in number of connected components when that airport is removed\n",
    "i = 0\n",
    "l = []\n",
    "\n",
    "for i in range (len(ar_points)):\n",
    "    if largest_component.has_node(ar_points[i]):\n",
    "        N1 = len(largest_component)      # No. of nodes with particular airport\n",
    "        largest_component.remove_node(ar_points[i]) # Removing the articulation point which is a airport\n",
    "        #print(largest_component.has_node(ar_points[i]))\n",
    "        new_no_component = nx.number_connected_components(largest_component) # Number of components after removing the airport\n",
    "        \n",
    "        largest_component_new=max(nx.connected_component_subgraphs(largest_component), key=len) # New largest component\n",
    "        \n",
    "        N2 = len(largest_component_new)  # No. of nodes in largest component after removing the particular airport \n",
    "        change_node = N1 - N2\n",
    "        \n",
    "        d[ar_points[i]] = change_node # Assigning airport and change in no. of nodes to a dictionary\n",
    "        component[ar_points[i]] = new_no_component  # Assigning airport and change in no. of components to a dictionary\n",
    "        largest_component = largest_component_backup.copy()\n",
    "    else:\n",
    "        l.append(ar_points[i])\n",
    "    i += 1\n",
    "    \n",
    "d_sorted = sorted(d.items(), key = lambda t:t[1], reverse=True) # Sorting the distionary for highest changes\n",
    "print(\"Articulation points and how they impact on number of nodes: \")\n",
    "print (d_sorted)\n",
    "print(\"\\n\")\n",
    "component_sorted = sorted(component.items(), key = lambda t:t[1], reverse=True)  # Sorting the distionary for highest changes\n",
    "print(\"Articulation points and how they increase in number of components when they are removed from the network: \")\n",
    "print(component_sorted)\n",
    "#print(l)\n",
    "#print(len(d))"
   ]
  },
  {
   "cell_type": "code",
   "execution_count": 7,
   "metadata": {},
   "outputs": [
    {
     "name": "stdout",
     "output_type": "stream",
     "text": [
      "Number of component in network 4\n",
      "Updated no. of component: 59\n"
     ]
    }
   ],
   "source": [
    "# Change in number of components in airport network when few top articulation points are removed from the network\n",
    "\n",
    "air_net = air_graph.to_undirected()\n",
    "\n",
    "print('Number of component in network',nx.number_connected_components(air_net))\n",
    "j = 0\n",
    "nodes = ['HPN','WFB','FAI','TEB','JNU']\n",
    "#nodes = ['ORD','ATL','ANC','LAS','EWR']\n",
    "total_nodes = len(air_net)\n",
    "#print (total_nodes)\n",
    "\n",
    "for j in range (len(nodes)):\n",
    "    air_net.remove_node(nodes[j])   \n",
    "    j += 1    \n",
    "\n",
    "component = nx.number_connected_components(air_net) # Number of components after removing the airport\n",
    "\n",
    "print(\"Updated no. of component:\",component )"
   ]
  },
  {
   "cell_type": "code",
   "execution_count": null,
   "metadata": {
    "collapsed": true
   },
   "outputs": [],
   "source": []
  },
  {
   "cell_type": "code",
   "execution_count": null,
   "metadata": {
    "collapsed": true
   },
   "outputs": [],
   "source": []
  }
 ],
 "metadata": {
  "kernelspec": {
   "display_name": "Python 3",
   "language": "python",
   "name": "python3"
  },
  "language_info": {
   "codemirror_mode": {
    "name": "ipython",
    "version": 3
   },
   "file_extension": ".py",
   "mimetype": "text/x-python",
   "name": "python",
   "nbconvert_exporter": "python",
   "pygments_lexer": "ipython3",
   "version": "3.6.1"
  }
 },
 "nbformat": 4,
 "nbformat_minor": 2
}
